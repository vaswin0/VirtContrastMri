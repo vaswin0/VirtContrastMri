{
 "cells": [
  {
   "cell_type": "markdown",
   "id": "54198751",
   "metadata": {},
   "source": [
    "# Implementation of Virtual Contrast Enhancement in Brain MRI Paper"
   ]
  },
  {
   "cell_type": "markdown",
   "id": "ccf43b79",
   "metadata": {},
   "source": [
    "## Data Loading Step"
   ]
  },
  {
   "cell_type": "markdown",
   "id": "ffe5584f",
   "metadata": {},
   "source": [
    "## Data Preprocessing Step"
   ]
  },
  {
   "cell_type": "markdown",
   "id": "9549e4ac",
   "metadata": {},
   "source": [
    "## Model Architecture Implementation"
   ]
  },
  {
   "cell_type": "markdown",
   "id": "7b8dfe3f",
   "metadata": {},
   "source": [
    "## Training Steps"
   ]
  },
  {
   "cell_type": "markdown",
   "id": "acdf43a1",
   "metadata": {},
   "source": [
    "## Predictions"
   ]
  },
  {
   "cell_type": "markdown",
   "id": "8b29e321",
   "metadata": {},
   "source": [
    "## End"
   ]
  },
  {
   "cell_type": "code",
   "execution_count": null,
   "id": "6f5b5953",
   "metadata": {},
   "outputs": [],
   "source": []
  }
 ],
 "metadata": {
  "kernelspec": {
   "display_name": "Python 3 (ipykernel)",
   "language": "python",
   "name": "python3"
  },
  "language_info": {
   "codemirror_mode": {
    "name": "ipython",
    "version": 3
   },
   "file_extension": ".py",
   "mimetype": "text/x-python",
   "name": "python",
   "nbconvert_exporter": "python",
   "pygments_lexer": "ipython3",
   "version": "3.9.12"
  }
 },
 "nbformat": 4,
 "nbformat_minor": 5
}
