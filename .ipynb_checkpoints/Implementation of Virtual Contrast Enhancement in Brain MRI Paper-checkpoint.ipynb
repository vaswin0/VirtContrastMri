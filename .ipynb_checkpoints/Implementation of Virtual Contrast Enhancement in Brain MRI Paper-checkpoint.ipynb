{
 "cells": [
  {
   "cell_type": "markdown",
   "id": "8c95ecca",
   "metadata": {},
   "source": [
    "# Implementation of Virtual Contrast Enhancement in Brain MRI Paper"
   ]
  },
  {
   "cell_type": "markdown",
   "id": "761bde29",
   "metadata": {},
   "source": [
    "## Data Loading Step"
   ]
  },
  {
   "cell_type": "code",
   "execution_count": null,
   "id": "4ad5d0b2",
   "metadata": {},
   "outputs": [],
   "source": [
    "import pydicom\n"
   ]
  },
  {
   "cell_type": "markdown",
   "id": "f3839dec",
   "metadata": {},
   "source": [
    "During training, random reflections along the x, y, and z axes\n",
    "were performed with a probability of 0.5. At each step, 4 minibatches\n",
    "of patch-size 10 \u0001 96 \u0001 96 \u0001 96 (c, x, y,z) were randomly selected from\n",
    "the augmented data and fed into the network."
   ]
  },
  {
   "cell_type": "markdown",
   "id": "254fdf17",
   "metadata": {},
   "source": [
    "## Data Preprocessing Step"
   ]
  },
  {
   "cell_type": "code",
   "execution_count": null,
   "id": "effa50c9",
   "metadata": {},
   "outputs": [],
   "source": [
    "# Target input shape = (10, 96,96,96)"
   ]
  },
  {
   "cell_type": "markdown",
   "id": "d9fa17c7",
   "metadata": {},
   "source": [
    "## Model Architecture Implementation"
   ]
  },
  {
   "cell_type": "code",
   "execution_count": null,
   "id": "14bce980",
   "metadata": {},
   "outputs": [],
   "source": [
    "from keras.layers import merge, Conv3D, Input\n",
    "from keras.layers import Input, concatenate \n",
    "from keras.models import Model\n",
    "from tf.keras.layers import Conv3D,UpSampling3D, BatchNormalization, Dropout\n",
    "# For skip connection we can use the below code\n",
    "# merge3 = concatenate([conv1,up3], axis = 3)\n"
   ]
  },
  {
   "cell_type": "code",
   "execution_count": null,
   "id": "371be89a",
   "metadata": {},
   "outputs": [],
   "source": [
    "# sample demo of upsampling and skip connections\n",
    "# up1 = Conv2D(128, 3, activation = 'relu', padding = 'same')(UpSampling2D(size = (2,2))(conv4))\n",
    "#   merge1 = concatenate([conv3,up1], axis = 3)\n",
    "#   up2 = Conv2D(64, 3, activation = 'relu', padding = 'same')(UpSampling2D(size = (2,2))(merge1))\n",
    "#   merge2 = concatenate([conv2,up2], axis = 3)\n",
    "#   up3 = Conv2D(32, 3, activation = 'relu', padding = 'same')(UpSampling2D(size = (2,2))(merge2))\n",
    "#   merge3 = concatenate([conv1,up3], axis = 3)\n",
    "  \n",
    "#   up4 = Conv2D(32, 3, padding = 'same')(UpSampling2D(size = (2,2))(merge3))\n",
    "  \n",
    "#   output_net = Conv2D(3, 3, padding = 'same')(up4)\n",
    "  \n",
    "#   model = Model(inputs = input_net, outputs = output_net)"
   ]
  },
  {
   "cell_type": "code",
   "execution_count": null,
   "id": "682f2f8a",
   "metadata": {},
   "outputs": [],
   "source": [
    "class BayesUNet():\n",
    "    def __init__(self, input_channels, output_channels):\n",
    "        self.input_channels = input_dim\n",
    "        \n",
    "    def \n",
    "        \n",
    "    def "
   ]
  },
  {
   "cell_type": "code",
   "execution_count": null,
   "id": "8d17eaff",
   "metadata": {},
   "outputs": [],
   "source": [
    "def light_green_block(inp):\n",
    "    x = Conv3D(\n",
    "        filters=32,\n",
    "        kernel_size=(1, 1, 1),\n",
    "        strides=2,\n",
    "        padding='same',\n",
    "        data_format='channels_first',\n",
    "        name='Input_x1')(inp)\n",
    "    x = BatchNormalization()(x)\n",
    "    x = Dropout(0.2)(x)\n",
    "    x = LeakyReLU(alpha = 0.3)(x)\n",
    "    \n",
    "    return x"
   ]
  },
  {
   "cell_type": "code",
   "execution_count": null,
   "id": "dc4630c0",
   "metadata": {},
   "outputs": [],
   "source": [
    "def dark_green_block(x, filter_number):\n",
    "    x = Conv3D(\n",
    "        filters=filter_number,\n",
    "        kernel_size=(3, 3, 3),\n",
    "        strides=2,\n",
    "        padding='same',\n",
    "        data_format='channels_first',\n",
    "        name='Input_x1')(inp)\n",
    "    x = BatchNormalization()(x)\n",
    "    x = Dropout(0.2)(x)\n",
    "    x = LeakyReLU(alpha = 0.3)(x)\n",
    "    \n",
    "    return x"
   ]
  },
  {
   "cell_type": "code",
   "execution_count": null,
   "id": "69c843c2",
   "metadata": {},
   "outputs": [],
   "source": [
    "# Have to make changes\n",
    "\n",
    "def blue_block():\n",
    "    x = Conv3D(\n",
    "        filters=128,\n",
    "        kernel_size=(3, 3, 3),\n",
    "        strides=1,\n",
    "        data_format='channels_first',\n",
    "        name='Decoder_conv3d layer')(x4)\n",
    "    x = BatchNormalization()(x)\n",
    "    x = Dropout(0.2)(x)\n",
    "    x = LeakyReLU(alpha = 0.3)(x)\n",
    "    x = UpSampling3D(\n",
    "        size=2,\n",
    "        data_format='channels_first',\n",
    "        name='Decoder_UpSample_256')(x)\n",
    "    \n",
    "    return x"
   ]
  },
  {
   "cell_type": "code",
   "execution_count": null,
   "id": "9ad80235",
   "metadata": {},
   "outputs": [],
   "source": [
    "def build_model(input_shape =-(10,96,96,96) ,output_channels):\n",
    "    c, H, W, D = input_shape\n",
    "    inp = Input(input_shape)\n",
    "    \n",
    "    x0 = light_green_block(inp)\n",
    "    x1= dark_green_block(x0,64)\n",
    "    x2 = dark_green_block(x1, 128)\n",
    "    x3 = dark_green_block(x2, 256)\n",
    "    x4 = dark_green_block(x3,512)\n",
    "    #######################\n",
    "    ## Code for the latent dimensions layer\n",
    "    \n",
    "    #######################\n",
    "    x = blue_block(x4)\n",
    "    # Skip connection\n",
    "    x = Add(name='Input_Dec_GT_512')([x, x4])\n",
    "    x = blue_block(x)\n",
    "    x = Add(name = 'Input_Dec_GT_256')([x, x3])\n",
    "    x = blue_block(x)\n",
    "    x = Add(name = 'Input_Dec_GT_128')([x, x2])\n",
    "    x = blue_block(x)\n",
    "    x = Add(name = 'Input_Dec_GT_64')([x, x1])\n",
    "    x = blue_block(x)\n",
    "    output = Add(name = 'Input_Dec_GT_32')([x , x0])\n",
    "    \n",
    "\n",
    "    model = Model(inp, output)\n",
    "    model.compile(\n",
    "        Adam(learning_rate = 1e-4), # to be customized\n",
    "        custom_loss(),# call the loss function here\n",
    "        metrics=[dice_coefficient] # to be customized\n",
    "    )\n",
    "    return model"
   ]
  },
  {
   "cell_type": "markdown",
   "id": "889683ea",
   "metadata": {},
   "source": [
    "### Loss function Implementation:"
   ]
  },
  {
   "cell_type": "code",
   "execution_count": null,
   "id": "771d15d7",
   "metadata": {},
   "outputs": [],
   "source": []
  },
  {
   "cell_type": "markdown",
   "id": "82803764",
   "metadata": {},
   "source": [
    "## Training Steps"
   ]
  },
  {
   "cell_type": "markdown",
   "id": "0d06076b",
   "metadata": {},
   "source": [
    "## Predictions"
   ]
  },
  {
   "cell_type": "markdown",
   "id": "94870692",
   "metadata": {},
   "source": [
    "## End"
   ]
  },
  {
   "cell_type": "code",
   "execution_count": null,
   "id": "62cb8198",
   "metadata": {},
   "outputs": [],
   "source": []
  }
 ],
 "metadata": {
  "kernelspec": {
   "display_name": "Python 3 (ipykernel)",
   "language": "python",
   "name": "python3"
  },
  "language_info": {
   "codemirror_mode": {
    "name": "ipython",
    "version": 3
   },
   "file_extension": ".py",
   "mimetype": "text/x-python",
   "name": "python",
   "nbconvert_exporter": "python",
   "pygments_lexer": "ipython3",
   "version": "3.9.12"
  }
 },
 "nbformat": 4,
 "nbformat_minor": 5
}
